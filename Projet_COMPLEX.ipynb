{
 "cells": [
  {
   "cell_type": "code",
   "execution_count": null,
   "id": "d2375a18",
   "metadata": {},
   "outputs": [],
   "source": [
    "# EX 1"
   ]
  },
  {
   "cell_type": "code",
   "execution_count": 108,
   "id": "51e42921",
   "metadata": {},
   "outputs": [],
   "source": [
    "# 1.a\n",
    "import numpy as np\n",
    "import time\n",
    "import matplotlib.pyplot as plt\n",
    "\n",
    "def contraction(G, e):\n",
    "    \n",
    "    debut = time.time()\n",
    "    \n",
    "    # récupération des indice des deux sommets à fusionner\n",
    "    x,y = e\n",
    "    # recupération du nombre d'arêtre entre les deux sommets\n",
    "    k = G[x,y]\n",
    "    \n",
    "    # récupération du nombre d'arête entre y et chaque autre sommet\n",
    "    fus_l = G[y,:]\n",
    "    \n",
    "    #  pour ne pas compter 2 fois les liaisons entre x et y,\n",
    "    G[x,y] -= k\n",
    "\n",
    "        \n",
    "    G[x,:] += fus_l\n",
    "    G[:,x] += fus_l\n",
    "\n",
    "    G[y,:] = np.zeros(len(G))\n",
    "    G[:,y] = np.zeros(len(G))\n",
    "    \n",
    "    fin = time.time()\n",
    "    \n",
    "    tps = fin-debut\n",
    "    \n",
    "    return G, tps, y\n"
   ]
  },
  {
   "cell_type": "code",
   "execution_count": 92,
   "id": "8ce0fd87",
   "metadata": {},
   "outputs": [
    {
     "name": "stdout",
     "output_type": "stream",
     "text": [
      "0.0002669523000717163\n",
      "0.00025917439460754394\n"
     ]
    }
   ],
   "source": [
    "# 1.b\n",
    "\n",
    "G1 = np.array([[1,2,0,1],\n",
    "     [2,0,3,1],\n",
    "     [0,3,1,1],\n",
    "     [1,1,1,0]])\n",
    "\n",
    "e = [0,1]\n",
    "\n",
    "#plt.plot(100, log_tps , \"r\",)\n",
    "#plt.show()"
   ]
  },
  {
   "cell_type": "code",
   "execution_count": 98,
   "id": "23fdce66",
   "metadata": {},
   "outputs": [
    {
     "name": "stdout",
     "output_type": "stream",
     "text": [
      "0.00027592294216156004\n",
      "0.0002731201648712158\n"
     ]
    }
   ],
   "source": [
    "# graph complet\n",
    "tps_complet = []\n",
    "\n",
    "for i in range(10000):\n",
    "    G = np.ones((500,500))\n",
    "    G_c, tps = contraction(G,e)\n",
    "    tps_complet.append(tps)\n",
    "    \n",
    "tps_complet_2 = []\n",
    "\n",
    "for i in range(10000):\n",
    "    G = np.ones((500,500))*2\n",
    "    G_c, tps = contraction(G,e)\n",
    "    tps_complet_2.append(tps)\n",
    "\n",
    "print(np.mean(tps_complet))\n",
    "print(np.mean(tps_complet_2))"
   ]
  },
  {
   "cell_type": "code",
   "execution_count": 97,
   "id": "e22e6b49",
   "metadata": {},
   "outputs": [
    {
     "name": "stdout",
     "output_type": "stream",
     "text": [
      "[[0. 1. 0. 0. 0. 0. 0. 0. 0. 0.]\n",
      " [0. 0. 1. 0. 0. 0. 0. 0. 0. 0.]\n",
      " [0. 0. 0. 1. 0. 0. 0. 0. 0. 0.]\n",
      " [0. 0. 0. 0. 1. 0. 0. 0. 0. 0.]\n",
      " [0. 0. 0. 0. 0. 1. 0. 0. 0. 0.]\n",
      " [0. 0. 0. 0. 0. 0. 1. 0. 0. 0.]\n",
      " [0. 0. 0. 0. 0. 0. 0. 1. 0. 0.]\n",
      " [0. 0. 0. 0. 0. 0. 0. 0. 1. 0.]\n",
      " [0. 0. 0. 0. 0. 0. 0. 0. 0. 1.]\n",
      " [1. 0. 0. 0. 0. 0. 0. 0. 0. 0.]]\n",
      "0.00027569336891174315\n"
     ]
    }
   ],
   "source": [
    "tps_cycle = []\n",
    "\n",
    "for i in range(10000):\n",
    "    G = np.zeros((500,500))\n",
    "    np.fill_diagonal(G[:,1:], 1)\n",
    "    G[-1,0] = 1\n",
    "    G_c, tps = contraction(G,e)\n",
    "    tps_cycle.append(tps)\n",
    "    \n",
    "print(np.mean(tps_cycle))\n"
   ]
  },
  {
   "cell_type": "code",
   "execution_count": 104,
   "id": "bb45a879",
   "metadata": {},
   "outputs": [
    {
     "name": "stdout",
     "output_type": "stream",
     "text": [
      "0.0002736063718795776\n"
     ]
    }
   ],
   "source": [
    "tps_proba = []\n",
    "\n",
    "for i in range(10000):\n",
    "    G = np.random.randint(2, size = (500,500))\n",
    "    G_c, tps = contraction(G,e)\n",
    "    tps_proba.append(tps)\n",
    "    \n",
    "print(np.mean(tps_proba))\n"
   ]
  },
  {
   "cell_type": "code",
   "execution_count": 123,
   "id": "625a50a6",
   "metadata": {},
   "outputs": [],
   "source": [
    "def selectRandom(n,S):\n",
    "    x = np.random.randint(n)\n",
    "    y = np.random.randint(n)\n",
    "    \n",
    "    while (x == y) or (y in S):\n",
    "        y = np.random.randint(n)\n",
    "        \n",
    "    return x,y"
   ]
  },
  {
   "cell_type": "code",
   "execution_count": 124,
   "id": "541b587c",
   "metadata": {},
   "outputs": [],
   "source": [
    "def karger(G):\n",
    "    V = [*range(len(G))]\n",
    "    print(V)\n",
    "    S = []\n",
    "    \n",
    "    while len(V) > 2:\n",
    "        e = selectRandom(len(V), S)\n",
    "        G,tps ,y = contraction(G,e)\n",
    "        \n",
    "        print(y,V)\n",
    "        \n",
    "        V.remove(y)\n",
    "        S.append(y)\n",
    "        \n",
    "    return S\n",
    "    "
   ]
  },
  {
   "cell_type": "code",
   "execution_count": 125,
   "id": "d88629d2",
   "metadata": {},
   "outputs": [
    {
     "name": "stdout",
     "output_type": "stream",
     "text": [
      "[0, 1, 2, 3, 4, 5]\n",
      "5 [0, 1, 2, 3, 4, 5]\n",
      "0 [0, 1, 2, 3, 4]\n",
      "1 [1, 2, 3, 4]\n",
      "2 [2, 3, 4]\n",
      "[5, 0, 1, 2]\n"
     ]
    }
   ],
   "source": [
    "G1 = np.array([[0,1,0,0,0,0],\n",
    "                [0,0,1,0,1,0],\n",
    "                [0,1,0,1,1,0],\n",
    "                [0,0,1,0,0,1],\n",
    "                [0,1,1,0,0,1],\n",
    "                [0,0,0,1,1,0]])\n",
    "\n",
    "print(karger(G1))"
   ]
  },
  {
   "cell_type": "code",
   "execution_count": null,
   "id": "851865ae",
   "metadata": {},
   "outputs": [],
   "source": []
  }
 ],
 "metadata": {
  "kernelspec": {
   "display_name": "Python 3 (ipykernel)",
   "language": "python",
   "name": "python3"
  },
  "language_info": {
   "codemirror_mode": {
    "name": "ipython",
    "version": 3
   },
   "file_extension": ".py",
   "mimetype": "text/x-python",
   "name": "python",
   "nbconvert_exporter": "python",
   "pygments_lexer": "ipython3",
   "version": "3.9.6"
  }
 },
 "nbformat": 4,
 "nbformat_minor": 5
}
